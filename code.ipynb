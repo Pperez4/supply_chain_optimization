{
 "cells": [
  {
   "cell_type": "code",
   "execution_count": null,
   "id": "679cf81b",
   "metadata": {},
   "outputs": [],
   "source": [
    "#=================================\n",
    "# libraries used for the project\n",
    "#=================================\n",
    "import pandas as pd\n"
   ]
  },
  {
   "cell_type": "code",
   "execution_count": 17,
   "id": "16dba44b",
   "metadata": {},
   "outputs": [
    {
     "name": "stdout",
     "output_type": "stream",
     "text": [
      "README.md  code.ipynb  sc_data.xlsx\n"
     ]
    }
   ],
   "source": [
    "# checking available files in current directory\n",
    "!ls"
   ]
  },
  {
   "cell_type": "code",
   "execution_count": 18,
   "id": "9c0cb8b6",
   "metadata": {},
   "outputs": [],
   "source": [
    "#===========================================================\n",
    "# Here essentially we are creating a Pandas DataFrame \n",
    "# for each table in the Excel file. Pandas DataFrame will\n",
    "# allows us to manipulate the data and work with the Pulp\n",
    "# library to solve the optimization problem.\n",
    "#===========================================================\n",
    "Order_List = pd.read_excel('sc_data.xlsx', sheet_name='OrderList')\n",
    "Freight_Rates = pd.read_excel('sc_data.xlsx', sheet_name='FreightRates')\n",
    "Warehouse_Cost = pd.read_excel('sc_data.xlsx', sheet_name='WhCosts')\n",
    "Warehouse_Capacity = pd.read_excel('sc_data.xlsx', sheet_name='WhCapacities')\n",
    "Product_per_Plant = pd.read_excel('sc_data.xlsx', sheet_name='ProductsPerPlant')\n",
    "Customers = pd.read_excel('sc_data.xlsx', sheet_name='VmiCustomers')\n",
    "Plant_Ports = pd.read_excel('sc_data.xlsx', sheet_name='PlantPorts')\n"
   ]
  },
  {
   "cell_type": "code",
   "execution_count": 19,
   "id": "0b9fb2c0",
   "metadata": {},
   "outputs": [
    {
     "data": {
      "text/plain": [
       "Index(['Order ID', 'Order Date', 'Origin Port', 'Carrier', 'TPT',\n",
       "       'Service Level', 'Ship ahead day count', 'Ship Late Day count',\n",
       "       'Customer', 'Product ID', 'Plant Code', 'Destination Port',\n",
       "       'Unit quantity', 'Weight'],\n",
       "      dtype='object')"
      ]
     },
     "execution_count": 19,
     "metadata": {},
     "output_type": "execute_result"
    }
   ],
   "source": [
    "\n",
    "Order_List.columns"
   ]
  }
 ],
 "metadata": {
  "kernelspec": {
   "display_name": "Python 3",
   "language": "python",
   "name": "python3"
  },
  "language_info": {
   "codemirror_mode": {
    "name": "ipython",
    "version": 3
   },
   "file_extension": ".py",
   "mimetype": "text/x-python",
   "name": "python",
   "nbconvert_exporter": "python",
   "pygments_lexer": "ipython3",
   "version": "3.12.1"
  }
 },
 "nbformat": 4,
 "nbformat_minor": 5
}
